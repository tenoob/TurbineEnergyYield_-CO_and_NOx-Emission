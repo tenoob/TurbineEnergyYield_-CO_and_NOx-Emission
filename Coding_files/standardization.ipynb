{
  "nbformat": 4,
  "nbformat_minor": 0,
  "metadata": {
    "colab": {
      "name": "standardization.ipynb",
      "provenance": [],
      "collapsed_sections": [],
      "mount_file_id": "15r876kVHCexvLZi1hNSr4LoHj9sRJTt5",
      "authorship_tag": "ABX9TyOIhF/m7GD+KPvpARTx/V2N",
      "include_colab_link": true
    },
    "kernelspec": {
      "name": "python3",
      "display_name": "Python 3"
    },
    "language_info": {
      "name": "python"
    }
  },
  "cells": [
    {
      "cell_type": "markdown",
      "metadata": {
        "id": "view-in-github",
        "colab_type": "text"
      },
      "source": [
        "<a href=\"https://colab.research.google.com/github/tenoob/TurbineEnergyYield_-CO_and_NOx-Emission/blob/main/Coding_files/standardization.ipynb\" target=\"_parent\"><img src=\"https://colab.research.google.com/assets/colab-badge.svg\" alt=\"Open In Colab\"/></a>"
      ]
    },
    {
      "cell_type": "code",
      "execution_count": null,
      "metadata": {
        "id": "rj0tIo75-f8n"
      },
      "outputs": [],
      "source": [
        "import pandas as pd\n",
        "import numpy as np\n",
        "from sklearn.preprocessing import StandardScaler\n",
        "import pickle\n",
        "\n",
        "import sys    \n",
        "path_to_module = '/content/drive/MyDrive/Gas_Turbine/pythonFiles'\n",
        "sys.path.append(path_to_module)\n",
        "from splitxy import saveFile\n"
      ]
    },
    {
      "cell_type": "code",
      "source": [
        "def saveModel(model,fileName,location):\n",
        "    \"\"\"\n",
        "        Save a model\n",
        "\n",
        "        model - name of model which to save\n",
        "        fileName - Name by which to be save (must be .pkl)\n",
        "        location - where to save\n",
        "    \"\"\"\n",
        "\n",
        "    pickle.dump(model,open((location+'/'+fileName),'wb'))\n",
        "    print(model , \"Saved \\t final Location :\",location+\"/\"+fileName)"
      ],
      "metadata": {
        "id": "AJkdjmrVWS_-"
      },
      "execution_count": null,
      "outputs": []
    },
    {
      "cell_type": "code",
      "source": [
        "df = pd.read_csv('/content/drive/MyDrive/Gas_Turbine/Dataset/trainingData/X_Training.csv')"
      ],
      "metadata": {
        "id": "BFlTRk58G9-u"
      },
      "execution_count": null,
      "outputs": []
    },
    {
      "cell_type": "code",
      "source": [
        "def standardizeTraining(dataFrame,fileName,location):\n",
        "    \"\"\"\n",
        "        Standardize the dataSet and Save it\n",
        "\n",
        "        dataFrame - Name of DataFrame to be Standardize\n",
        "        fileName - Name by which the dataFrame to be saved (must be .csv)\n",
        "        location - path here to save\n",
        "    \"\"\"\n",
        "    scaler = StandardScaler()\n",
        "    scaled = pd.DataFrame(scaler.fit_transform(dataFrame),columns=df.columns)\n",
        "    file = location+\"/\"+fileName\n",
        "    saveFile(scaled,name=file,index=False)\n",
        "    print(\"DataFrame Scaled and saved at\",)\n",
        "    return scaler\n",
        "\n",
        "\n",
        "    "
      ],
      "metadata": {
        "id": "RhU8f31GHBuM"
      },
      "execution_count": null,
      "outputs": []
    },
    {
      "cell_type": "code",
      "source": [
        "df = standardizeTraining(dataFrame=df,fileName='standardizeTrainingData.csv',location='/content/drive/MyDrive/Gas_Turbine/Dataset/trainingData/standardizeData')"
      ],
      "metadata": {
        "colab": {
          "base_uri": "https://localhost:8080/"
        },
        "id": "KRWJGIYyIPxE",
        "outputId": "70a0940a-6307-4f11-ef18-171b0941619c"
      },
      "execution_count": null,
      "outputs": [
        {
          "output_type": "stream",
          "name": "stdout",
          "text": [
            "/content/drive/MyDrive/Gas_Turbine/Dataset/trainingData/standardizeData/standardizeTrainingData.csv \t Saved\n",
            "DataFraome Scaled and saved at\n"
          ]
        }
      ]
    },
    {
      "cell_type": "code",
      "source": [
        ""
      ],
      "metadata": {
        "id": "0DOBff1rIYLU"
      },
      "execution_count": null,
      "outputs": []
    },
    {
      "cell_type": "code",
      "source": [
        "saveModel(model = df , fileName = 'scaler.pkl' , location='/content/drive/MyDrive/Gas_Turbine')"
      ],
      "metadata": {
        "colab": {
          "base_uri": "https://localhost:8080/"
        },
        "id": "Qw7dXOPaK-3t",
        "outputId": "77f7cd41-9170-4b86-a578-509e2bf89f96"
      },
      "execution_count": null,
      "outputs": [
        {
          "output_type": "stream",
          "name": "stdout",
          "text": [
            "StandardScaler() Saved \t final Location : /content/drive/MyDrive/Gas_Turbine/scaler.pkl\n"
          ]
        }
      ]
    },
    {
      "cell_type": "code",
      "source": [
        ""
      ],
      "metadata": {
        "id": "wAIlw5usLh0c"
      },
      "execution_count": null,
      "outputs": []
    }
  ]
}