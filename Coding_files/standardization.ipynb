{
  "nbformat": 4,
  "nbformat_minor": 0,
  "metadata": {
    "colab": {
      "name": "standardization.ipynb",
      "provenance": [],
      "collapsed_sections": [],
      "mount_file_id": "15r876kVHCexvLZi1hNSr4LoHj9sRJTt5",
      "authorship_tag": "ABX9TyOzUGBBF7bqO/0SCjNIkOa+",
      "include_colab_link": true
    },
    "kernelspec": {
      "name": "python3",
      "display_name": "Python 3"
    },
    "language_info": {
      "name": "python"
    }
  },
  "cells": [
    {
      "cell_type": "markdown",
      "metadata": {
        "id": "view-in-github",
        "colab_type": "text"
      },
      "source": [
        "<a href=\"https://colab.research.google.com/github/tenoob/TurbineEnergyYield_-CO_and_NOx-Emission/blob/main/Coding_files/standardization.ipynb\" target=\"_parent\"><img src=\"https://colab.research.google.com/assets/colab-badge.svg\" alt=\"Open In Colab\"/></a>"
      ]
    },
    {
      "cell_type": "code",
      "execution_count": 2,
      "metadata": {
        "colab": {
          "base_uri": "https://localhost:8080/",
          "height": 35
        },
        "id": "rj0tIo75-f8n",
        "outputId": "353c1e70-706a-4522-8c86-032c951ad254"
      },
      "outputs": [
        {
          "output_type": "execute_result",
          "data": {
            "text/plain": [
              "'\\nimport import_ipynb\\nfrom ipynb.fs.full.splitXY import saveFile\\n\\n#'"
            ],
            "application/vnd.google.colaboratory.intrinsic+json": {
              "type": "string"
            }
          },
          "metadata": {},
          "execution_count": 2
        }
      ],
      "source": [
        "import pandas as pd\n",
        "import numpy as np\n",
        "from sklearn.preprocessing import StandardScaler\n",
        "import pickle\n",
        "\n",
        "import sys    \n",
        "path_to_module = '/content/drive/MyDrive/Gas_Turbine/pythonFiles'\n",
        "sys.path.append(path_to_module)\n",
        "from splitxy import saveFile\n"
      ]
    },
    {
      "cell_type": "code",
      "source": [
        "df = pd.read_csv('/content/drive/MyDrive/Gas_Turbine/Dataset/trainingData/X_Training.csv')"
      ],
      "metadata": {
        "id": "BFlTRk58G9-u"
      },
      "execution_count": 3,
      "outputs": []
    },
    {
      "cell_type": "code",
      "source": [
        "def standardizeTraining(dataFrame,fileName,location):\n",
        "    \"\"\"\n",
        "        Standardize the dataSet and Save it\n",
        "\n",
        "        dataFrame - Name of DataFrame to be Standardize\n",
        "        fileName - Name by which the dataFrame to be saved (must be .csv)\n",
        "        location - path here to save\n",
        "    \"\"\"\n",
        "    scaler = StandardScaler()\n",
        "    scaled = pd.DataFrame(scaler.fit_transform(dataFrame),columns=df.columns)\n",
        "    file = location+\"/\"+fileName\n",
        "    saveFile(scaled,name=file,index=False)\n",
        "    print(\"DataFraome Scaled and saved at\",)\n",
        "    return scaler\n",
        "\n",
        "\n",
        "    "
      ],
      "metadata": {
        "id": "RhU8f31GHBuM"
      },
      "execution_count": 4,
      "outputs": []
    },
    {
      "cell_type": "code",
      "source": [
        "df = standardizeTraining(dataFrame=df,fileName='standardizeTrainingData.csv',location='/content/drive/MyDrive/Gas_Turbine/Dataset/trainingData/standardizeData')"
      ],
      "metadata": {
        "colab": {
          "base_uri": "https://localhost:8080/"
        },
        "id": "KRWJGIYyIPxE",
        "outputId": "70a0940a-6307-4f11-ef18-171b0941619c"
      },
      "execution_count": 5,
      "outputs": [
        {
          "output_type": "stream",
          "name": "stdout",
          "text": [
            "/content/drive/MyDrive/Gas_Turbine/Dataset/trainingData/standardizeData/standardizeTrainingData.csv \t Saved\n",
            "DataFraome Scaled and saved at\n"
          ]
        }
      ]
    },
    {
      "cell_type": "code",
      "source": [
        "df.head()"
      ],
      "metadata": {
        "colab": {
          "base_uri": "https://localhost:8080/"
        },
        "id": "XpHP26EiIWET",
        "outputId": "afba4dab-8216-44d5-d9c8-478765ac181d"
      },
      "execution_count": 9,
      "outputs": [
        {
          "output_type": "execute_result",
          "data": {
            "text/plain": [
              "array([[-0.78895203,  1.10693087,  1.06458989, ...,  0.23758471,\n",
              "         0.57814468, -0.18167658],\n",
              "       [-1.18074809, -1.55481136,  1.36323983, ..., -0.07157845,\n",
              "         0.58074067, -0.29054056],\n",
              "       [-1.06630379, -0.14565371,  1.03726292, ..., -1.45686721,\n",
              "         0.57035672, -1.31620123],\n",
              "       ...,\n",
              "       [ 0.21985927, -0.50577177,  0.78079313, ...,  0.36243906,\n",
              "         0.58723063,  0.10262936],\n",
              "       [ 0.80234145,  1.24784664, -1.65246121, ...,  1.00454716,\n",
              "        -0.02282624,  0.6973326 ],\n",
              "       [-0.95760821,  1.52967817,  0.01066276, ...,  0.16029392,\n",
              "         0.59501859, -0.24645515]])"
            ]
          },
          "metadata": {},
          "execution_count": 9
        }
      ]
    },
    {
      "cell_type": "code",
      "source": [
        "def saveModel(model,fileName,location):\n",
        "    \"\"\"\n",
        "        Save a model\n",
        "\n",
        "        model - name of model which to save\n",
        "        fileName - Name by which to be save (must be .pkl)\n",
        "        location - where to save\n",
        "    \"\"\"\n",
        "\n",
        "    pickle.dump(model,open((location+'/'+fileName),'wb'))\n",
        "    print(model , \"Saved \\t final Location :\",location+\"/\"+fileName)"
      ],
      "metadata": {
        "id": "0DOBff1rIYLU"
      },
      "execution_count": 6,
      "outputs": []
    },
    {
      "cell_type": "code",
      "source": [
        "saveModel(model = df , fileName = 'scaler.pkl' , location='/content/drive/MyDrive/Gas_Turbine')"
      ],
      "metadata": {
        "colab": {
          "base_uri": "https://localhost:8080/"
        },
        "id": "Qw7dXOPaK-3t",
        "outputId": "77f7cd41-9170-4b86-a578-509e2bf89f96"
      },
      "execution_count": 7,
      "outputs": [
        {
          "output_type": "stream",
          "name": "stdout",
          "text": [
            "StandardScaler() Saved \t final Location : /content/drive/MyDrive/Gas_Turbine/scaler.pkl\n"
          ]
        }
      ]
    },
    {
      "cell_type": "code",
      "source": [
        ""
      ],
      "metadata": {
        "id": "wAIlw5usLh0c"
      },
      "execution_count": null,
      "outputs": []
    }
  ]
}