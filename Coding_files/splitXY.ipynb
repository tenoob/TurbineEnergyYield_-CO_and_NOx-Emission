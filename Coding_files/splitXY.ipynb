{
  "nbformat": 4,
  "nbformat_minor": 0,
  "metadata": {
    "colab": {
      "name": "splitXY.ipynb",
      "provenance": [],
      "collapsed_sections": [],
      "mount_file_id": "1tXj_S5ua3LJBceLAcNa46fXTrN3xBxXc",
      "authorship_tag": "ABX9TyMfFyUKwtfd3fVLCI+8DDEA",
      "include_colab_link": true
    },
    "kernelspec": {
      "name": "python3",
      "display_name": "Python 3"
    },
    "language_info": {
      "name": "python"
    }
  },
  "cells": [
    {
      "cell_type": "markdown",
      "metadata": {
        "id": "view-in-github",
        "colab_type": "text"
      },
      "source": [
        "<a href=\"https://colab.research.google.com/github/tenoob/TurbineEnergyYield_-CO_and_NOx-Emission/blob/main/Coding_files/splitXY.ipynb\" target=\"_parent\"><img src=\"https://colab.research.google.com/assets/colab-badge.svg\" alt=\"Open In Colab\"/></a>"
      ]
    },
    {
      "cell_type": "code",
      "execution_count": 2,
      "metadata": {
        "id": "sIZQlVSx872B"
      },
      "outputs": [],
      "source": [
        "import pandas as pd\n",
        "from sklearn.model_selection import train_test_split"
      ]
    },
    {
      "cell_type": "code",
      "source": [
        "def saveFile(df,name,index):\n",
        "    df.to_csv(name,index=index)\n",
        "    print(name,\"\\t Saved\")"
      ],
      "metadata": {
        "id": "jViosv3caSYw"
      },
      "execution_count": 11,
      "outputs": []
    },
    {
      "cell_type": "code",
      "source": [
        "def splitXY(file, path, x_col, y_List , yFileNameList,yValidationFileName=False, xFileName = \"X.csv\",validationSet=False, index=False):\n",
        "\n",
        "    '''\n",
        "        Spliting Dataset into X and Y\n",
        "\n",
        "        file - Dataset file\n",
        "        path - Directory where to save files\n",
        "        x_col - list of column to be included in X \n",
        "        y_list - list of column which will create Y (they all will form separate files)\n",
        "        yValidationFileName - list of Names for y Validation sets\n",
        "        xFileName - Name for X files (save with .csv extention)\n",
        "        yFileNameList - list of Names for the Y files (save each with .csv extenstion)\n",
        "        validationSet - Checks if validation set is to be create or not\n",
        "        index - add index to each csv file (by Default False)\n",
        "    '''\n",
        "    df = pd.read_csv(file)\n",
        "    x = df[x_col]\n",
        "    y = df[y_List]\n",
        "\n",
        "    # check for validation set if yes then creatign validation set\n",
        "    if validationSet==True:                                  \n",
        "        x_train , x_validate , y_train , y_validate = train_test_split(x,y,test_size=0.2,random_state=45)\n",
        "        print(x_train.info())\n",
        "        print(x_validate.info())\n",
        "        print(y_train.info())\n",
        "        print(y_validate.info())\n",
        "\n",
        "        #Saving x_train\n",
        "        saveFile(x_train,(path+'/'+xFileName[0]),index)   \n",
        "        #Saving x_validation                          \n",
        "        saveFile(x_validate,(path+'/'+xFileName[1]),index)                          \n",
        "        \n",
        "         #Saving y_validate\n",
        "        for i in range(len(yValidationFileName)):                                   \n",
        "            saveFile(y_validate.iloc[:,i],(path+'/'+yValidationFileName[i]),index)\n",
        "\n",
        "         #Saving y_train\n",
        "        for i in range(len(yFileNameList)):                                         \n",
        "            saveFile(y_train.iloc[:,i],(path+'/'+yFileNameList[i]),index)\n",
        "\n",
        "    else:\n",
        "\n",
        "         #save x                                   \n",
        "        saveFile(x,(path+'/'+xFileName ),index)                                     \n",
        "        print(x.info())\n",
        "\n",
        "        #save y    \n",
        "        for i in range(len(y_List)):                           \n",
        "            y = df[y_List[i]]\n",
        "            saveFile(y,(path+'/'+yFileNameList[i] ),index)\n",
        "            print(y.shape)\n",
        "\n",
        "    print(\"Done\")\n"
      ],
      "metadata": {
        "id": "Qq5kCljR9E1q"
      },
      "execution_count": 45,
      "outputs": []
    },
    {
      "cell_type": "code",
      "source": [
        "file = '/content/drive/MyDrive/Gas_Turbine/Dataset/training_data.csv'\n",
        "location = '/content/drive/MyDrive/Gas_Turbine/Dataset/trainingData'\n",
        "x = ['AT','AP','AH','AFDP','GTEP','TIT','TAT','CDP',]\n",
        "y = ['TEY','CO','NOX']\n",
        "XFile=['X_Training.csv', 'X_Validation.csv']\n",
        "yFile = ['Training_energyYield.csv','Training_carbonMonooxide.csv','Training_nitrogenOxides.csv']\n",
        "validationName = ['Validation_energyYield.csv','Validation_carbonMonooxide.csv','Validation_nitrogenOxides.csv']\n",
        "\n",
        "splitXY(file, path=location, x_col=x, y_List=y, yFileNameList=yFile,yValidationFileName=validationName,validationSet=True, xFileName=XFile)"
      ],
      "metadata": {
        "id": "327rb-8O-tGu",
        "colab": {
          "base_uri": "https://localhost:8080/"
        },
        "outputId": "ce843d8e-f039-49a6-c06b-dc9ba7932879"
      },
      "execution_count": 47,
      "outputs": [
        {
          "output_type": "stream",
          "name": "stdout",
          "text": [
            "<class 'pandas.core.frame.DataFrame'>\n",
            "Int64Index: 17752 entries, 21014 to 6558\n",
            "Data columns (total 8 columns):\n",
            " #   Column  Non-Null Count  Dtype  \n",
            "---  ------  --------------  -----  \n",
            " 0   AT      17752 non-null  float64\n",
            " 1   AP      17752 non-null  float64\n",
            " 2   AH      17752 non-null  float64\n",
            " 3   AFDP    17752 non-null  float64\n",
            " 4   GTEP    17752 non-null  float64\n",
            " 5   TIT     17752 non-null  float64\n",
            " 6   TAT     17752 non-null  float64\n",
            " 7   CDP     17752 non-null  float64\n",
            "dtypes: float64(8)\n",
            "memory usage: 1.2 MB\n",
            "None\n",
            "<class 'pandas.core.frame.DataFrame'>\n",
            "Int64Index: 4439 entries, 16635 to 4834\n",
            "Data columns (total 8 columns):\n",
            " #   Column  Non-Null Count  Dtype  \n",
            "---  ------  --------------  -----  \n",
            " 0   AT      4439 non-null   float64\n",
            " 1   AP      4439 non-null   float64\n",
            " 2   AH      4439 non-null   float64\n",
            " 3   AFDP    4439 non-null   float64\n",
            " 4   GTEP    4439 non-null   float64\n",
            " 5   TIT     4439 non-null   float64\n",
            " 6   TAT     4439 non-null   float64\n",
            " 7   CDP     4439 non-null   float64\n",
            "dtypes: float64(8)\n",
            "memory usage: 312.1 KB\n",
            "None\n",
            "<class 'pandas.core.frame.DataFrame'>\n",
            "Int64Index: 17752 entries, 21014 to 6558\n",
            "Data columns (total 3 columns):\n",
            " #   Column  Non-Null Count  Dtype  \n",
            "---  ------  --------------  -----  \n",
            " 0   TEY     17752 non-null  float64\n",
            " 1   CO      17752 non-null  float64\n",
            " 2   NOX     17752 non-null  float64\n",
            "dtypes: float64(3)\n",
            "memory usage: 554.8 KB\n",
            "None\n",
            "<class 'pandas.core.frame.DataFrame'>\n",
            "Int64Index: 4439 entries, 16635 to 4834\n",
            "Data columns (total 3 columns):\n",
            " #   Column  Non-Null Count  Dtype  \n",
            "---  ------  --------------  -----  \n",
            " 0   TEY     4439 non-null   float64\n",
            " 1   CO      4439 non-null   float64\n",
            " 2   NOX     4439 non-null   float64\n",
            "dtypes: float64(3)\n",
            "memory usage: 138.7 KB\n",
            "None\n",
            "/content/drive/MyDrive/Gas_Turbine/Dataset/trainingData/X_Training.csv \t Saved\n",
            "/content/drive/MyDrive/Gas_Turbine/Dataset/trainingData/X_Validation.csv \t Saved\n",
            "/content/drive/MyDrive/Gas_Turbine/Dataset/trainingData/Validation_energyYield.csv \t Saved\n",
            "/content/drive/MyDrive/Gas_Turbine/Dataset/trainingData/Validation_carbonMonooxide.csv \t Saved\n",
            "/content/drive/MyDrive/Gas_Turbine/Dataset/trainingData/Validation_nitrogenOxides.csv \t Saved\n",
            "/content/drive/MyDrive/Gas_Turbine/Dataset/trainingData/Training_energyYield.csv \t Saved\n",
            "/content/drive/MyDrive/Gas_Turbine/Dataset/trainingData/Training_carbonMonooxide.csv \t Saved\n",
            "/content/drive/MyDrive/Gas_Turbine/Dataset/trainingData/Training_nitrogenOxides.csv \t Saved\n",
            "Done\n"
          ]
        }
      ]
    },
    {
      "cell_type": "code",
      "source": [
        "file = '/content/drive/MyDrive/Gas_Turbine/Dataset/testing_data.csv'\n",
        "location = '/content/drive/MyDrive/Gas_Turbine/Dataset/testingData'\n",
        "x = ['AT','AP','AH','AFDP','GTEP','TIT','TAT','CDP',]\n",
        "y = ['TEY','CO','NOX']\n",
        "XFile='X_Testing.csv'\n",
        "yFile = ['Testing_energyYield.csv','Testing_carbonMonooxide.csv','Testing_nitrogenOxides.csv']\n",
        "\n",
        "splitXY(file,path=location,x_col=x,y_List=y,yFileNameList=yFile,xFileName=XFile)"
      ],
      "metadata": {
        "colab": {
          "base_uri": "https://localhost:8080/"
        },
        "id": "vpCt0P_rEzXk",
        "outputId": "99536b05-7b02-466e-961a-177aeb5731e7"
      },
      "execution_count": 48,
      "outputs": [
        {
          "output_type": "stream",
          "name": "stdout",
          "text": [
            "/content/drive/MyDrive/Gas_Turbine/Dataset/testingData/X_Testing.csv \t Saved\n",
            "<class 'pandas.core.frame.DataFrame'>\n",
            "RangeIndex: 14542 entries, 0 to 14541\n",
            "Data columns (total 8 columns):\n",
            " #   Column  Non-Null Count  Dtype  \n",
            "---  ------  --------------  -----  \n",
            " 0   AT      14542 non-null  float64\n",
            " 1   AP      14542 non-null  float64\n",
            " 2   AH      14542 non-null  float64\n",
            " 3   AFDP    14542 non-null  float64\n",
            " 4   GTEP    14542 non-null  float64\n",
            " 5   TIT     14542 non-null  float64\n",
            " 6   TAT     14542 non-null  float64\n",
            " 7   CDP     14542 non-null  float64\n",
            "dtypes: float64(8)\n",
            "memory usage: 909.0 KB\n",
            "None\n",
            "/content/drive/MyDrive/Gas_Turbine/Dataset/testingData/Testing_energyYield.csv \t Saved\n",
            "(14542,)\n",
            "/content/drive/MyDrive/Gas_Turbine/Dataset/testingData/Testing_carbonMonooxide.csv \t Saved\n",
            "(14542,)\n",
            "/content/drive/MyDrive/Gas_Turbine/Dataset/testingData/Testing_nitrogenOxides.csv \t Saved\n",
            "(14542,)\n",
            "Done\n"
          ]
        }
      ]
    }
  ]
}