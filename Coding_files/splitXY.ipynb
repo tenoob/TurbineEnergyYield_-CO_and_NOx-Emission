{
  "nbformat": 4,
  "nbformat_minor": 0,
  "metadata": {
    "colab": {
      "name": "splitXY.ipynb",
      "provenance": [],
      "mount_file_id": "1tXj_S5ua3LJBceLAcNa46fXTrN3xBxXc",
      "authorship_tag": "ABX9TyPzQnAyRmq/ckNR5KCVnUAi",
      "include_colab_link": true
    },
    "kernelspec": {
      "name": "python3",
      "display_name": "Python 3"
    },
    "language_info": {
      "name": "python"
    }
  },
  "cells": [
    {
      "cell_type": "markdown",
      "metadata": {
        "id": "view-in-github",
        "colab_type": "text"
      },
      "source": [
        "<a href=\"https://colab.research.google.com/github/tenoob/TurbineEnergyYield_-CO_and_NOx-Emission/blob/main/Coding_files/splitXY.ipynb\" target=\"_parent\"><img src=\"https://colab.research.google.com/assets/colab-badge.svg\" alt=\"Open In Colab\"/></a>"
      ]
    },
    {
      "cell_type": "code",
      "execution_count": null,
      "metadata": {
        "id": "sIZQlVSx872B"
      },
      "outputs": [],
      "source": [
        "import pandas as pd"
      ]
    },
    {
      "cell_type": "code",
      "source": [
        "def splitXY(file, path, x_col, y_List , yFileNameList, xFileName = \"X.csv\", index=False):\n",
        "\n",
        "    '''\n",
        "        Spliting Dataset into X and Y\n",
        "\n",
        "        file - Dataset file\n",
        "        path - Directory where to save files\n",
        "        x_col - list of column to be included in X \n",
        "        y_list - list of column which will create Y (they all will form separate files)\n",
        "        xFileName - Name for X file (save with .csv extention)\n",
        "        yFileNameList - list of Names for the Y files (save each with .csv extenstion)\n",
        "        index - add index to each csv file (by Default False)\n",
        "    '''\n",
        "    df = pd.read_csv(file)\n",
        "    x = df[x_col]\n",
        "    filename = path+'/'+xFileName\n",
        "    x.to_csv(filename,index=index)\n",
        "\n",
        "    for i in range(len(y_List)):\n",
        "        y = df[y_List[i]]\n",
        "        filename = path+'/'+yFileNameList[i]\n",
        "        y.to_csv(filename , index=index)\n",
        "\n",
        "    print(\"Done\")\n"
      ],
      "metadata": {
        "id": "Qq5kCljR9E1q"
      },
      "execution_count": 31,
      "outputs": []
    },
    {
      "cell_type": "code",
      "source": [
        "file = '/content/drive/MyDrive/Gas_Turbine/Dataset/training_data.csv'\n",
        "location = '/content/drive/MyDrive/Gas_Turbine/Dataset/trainingData'\n",
        "x = ['AT','AP','AH','AFDP','GTEP','TIT','TAT','CDP',]\n",
        "y = ['TEY','CO','NOX']\n",
        "XFile='X_Training.csv'\n",
        "yFile = ['Training_energyYield.csv','Training_carbonMonooxide.csv','Training_nitrogenOxides.csv']\n",
        "\n",
        "splitXY(file, path=location, x_col=x, y_List=y, yFileNameList=yFile, xFileName=XFile)"
      ],
      "metadata": {
        "id": "327rb-8O-tGu",
        "colab": {
          "base_uri": "https://localhost:8080/"
        },
        "outputId": "9f9ca433-1d94-42c6-99d3-d1e42de3515f"
      },
      "execution_count": 29,
      "outputs": [
        {
          "output_type": "stream",
          "name": "stdout",
          "text": [
            "Done\n"
          ]
        }
      ]
    },
    {
      "cell_type": "code",
      "source": [
        "file = '/content/drive/MyDrive/Gas_Turbine/Dataset/testing_data.csv'\n",
        "location = '/content/drive/MyDrive/Gas_Turbine/Dataset/testingData'\n",
        "x = ['AT','AP','AH','AFDP','GTEP','TIT','TAT','CDP',]\n",
        "y = ['TEY','CO','NOX']\n",
        "XFile='X_Testing.csv'\n",
        "yFile = ['Testing_energyYield.csv','Testing_carbonMonooxide.csv','Testing_nitrogenOxides.csv']\n",
        "\n",
        "splitXY(file,path=location,x_col=x,y_List=y,yFileNameList=yFile,xFileName=XFile)"
      ],
      "metadata": {
        "colab": {
          "base_uri": "https://localhost:8080/"
        },
        "id": "vpCt0P_rEzXk",
        "outputId": "3ec421a6-9a0d-4565-e5ee-504202790cff"
      },
      "execution_count": 30,
      "outputs": [
        {
          "output_type": "stream",
          "name": "stdout",
          "text": [
            "Done\n"
          ]
        }
      ]
    },
    {
      "cell_type": "code",
      "source": [
        ""
      ],
      "metadata": {
        "id": "68BDv-zfHAKx"
      },
      "execution_count": null,
      "outputs": []
    }
  ]
}