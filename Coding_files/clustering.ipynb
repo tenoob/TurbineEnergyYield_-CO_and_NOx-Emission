{
  "nbformat": 4,
  "nbformat_minor": 0,
  "metadata": {
    "colab": {
      "name": "clustering.ipynb",
      "provenance": [],
      "mount_file_id": "1daW5RgclGXuPleWraEydBCM-3TUzf249",
      "authorship_tag": "ABX9TyPS8H12XHbq4XJiaoU/EcCv",
      "include_colab_link": true
    },
    "kernelspec": {
      "name": "python3",
      "display_name": "Python 3"
    },
    "language_info": {
      "name": "python"
    }
  },
  "cells": [
    {
      "cell_type": "markdown",
      "metadata": {
        "id": "view-in-github",
        "colab_type": "text"
      },
      "source": [
        "<a href=\"https://colab.research.google.com/github/tenoob/TurbineEnergyYield_-CO_and_NOx-Emission/blob/main/Coding_files/clustering.ipynb\" target=\"_parent\"><img src=\"https://colab.research.google.com/assets/colab-badge.svg\" alt=\"Open In Colab\"/></a>"
      ]
    },
    {
      "cell_type": "code",
      "execution_count": 28,
      "metadata": {
        "id": "cMsYhW_tKDUL"
      },
      "outputs": [],
      "source": [
        "import pandas as pd\n",
        "import numpy as np\n",
        "import matplotlib.pyplot as plt\n",
        "from sklearn.cluster import KMeans\n",
        "from yellowbrick.cluster import KElbowVisualizer\n",
        "\n",
        "import sys    \n",
        "path_to_module = '/content/drive/MyDrive/Gas_Turbine/pythonFiles'\n",
        "sys.path.append(path_to_module)\n",
        "from standardization import saveModel"
      ]
    },
    {
      "cell_type": "code",
      "source": [
        "df = pd.read_csv(\"/content/drive/MyDrive/Gas_Turbine/Dataset/trainingData/standardizeData/standardizeTrainingData.csv\")"
      ],
      "metadata": {
        "id": "wJWHXOAkObID"
      },
      "execution_count": 2,
      "outputs": []
    },
    {
      "cell_type": "code",
      "source": [
        "df.head()"
      ],
      "metadata": {
        "colab": {
          "base_uri": "https://localhost:8080/",
          "height": 206
        },
        "id": "QbJGtR1rOjr2",
        "outputId": "19768975-4cce-4d02-d100-5412a43b3b5b"
      },
      "execution_count": 3,
      "outputs": [
        {
          "output_type": "execute_result",
          "data": {
            "text/plain": [
              "         AT        AP        AH      AFDP      GTEP       TIT       TAT  \\\n",
              "0 -0.788952  1.106931  1.064590 -1.109499 -0.108792  0.237585  0.578145   \n",
              "1 -1.180748 -1.554811  1.363240 -1.242528 -0.408377 -0.071578  0.580741   \n",
              "2 -1.066304 -0.145654  1.037263 -1.625389 -1.334108 -1.456867  0.570357   \n",
              "3  0.583129 -0.098682 -0.177670 -0.840468 -1.193072 -1.409304  0.574251   \n",
              "4 -0.901752  0.151835  0.175129  0.165054  1.858150  1.004547 -2.263163   \n",
              "\n",
              "        CDP  \n",
              "0 -0.181677  \n",
              "1 -0.290541  \n",
              "2 -1.316201  \n",
              "3 -1.277514  \n",
              "4  1.745486  "
            ],
            "text/html": [
              "\n",
              "  <div id=\"df-ed10b26f-b672-4252-8898-4583810a473f\">\n",
              "    <div class=\"colab-df-container\">\n",
              "      <div>\n",
              "<style scoped>\n",
              "    .dataframe tbody tr th:only-of-type {\n",
              "        vertical-align: middle;\n",
              "    }\n",
              "\n",
              "    .dataframe tbody tr th {\n",
              "        vertical-align: top;\n",
              "    }\n",
              "\n",
              "    .dataframe thead th {\n",
              "        text-align: right;\n",
              "    }\n",
              "</style>\n",
              "<table border=\"1\" class=\"dataframe\">\n",
              "  <thead>\n",
              "    <tr style=\"text-align: right;\">\n",
              "      <th></th>\n",
              "      <th>AT</th>\n",
              "      <th>AP</th>\n",
              "      <th>AH</th>\n",
              "      <th>AFDP</th>\n",
              "      <th>GTEP</th>\n",
              "      <th>TIT</th>\n",
              "      <th>TAT</th>\n",
              "      <th>CDP</th>\n",
              "    </tr>\n",
              "  </thead>\n",
              "  <tbody>\n",
              "    <tr>\n",
              "      <th>0</th>\n",
              "      <td>-0.788952</td>\n",
              "      <td>1.106931</td>\n",
              "      <td>1.064590</td>\n",
              "      <td>-1.109499</td>\n",
              "      <td>-0.108792</td>\n",
              "      <td>0.237585</td>\n",
              "      <td>0.578145</td>\n",
              "      <td>-0.181677</td>\n",
              "    </tr>\n",
              "    <tr>\n",
              "      <th>1</th>\n",
              "      <td>-1.180748</td>\n",
              "      <td>-1.554811</td>\n",
              "      <td>1.363240</td>\n",
              "      <td>-1.242528</td>\n",
              "      <td>-0.408377</td>\n",
              "      <td>-0.071578</td>\n",
              "      <td>0.580741</td>\n",
              "      <td>-0.290541</td>\n",
              "    </tr>\n",
              "    <tr>\n",
              "      <th>2</th>\n",
              "      <td>-1.066304</td>\n",
              "      <td>-0.145654</td>\n",
              "      <td>1.037263</td>\n",
              "      <td>-1.625389</td>\n",
              "      <td>-1.334108</td>\n",
              "      <td>-1.456867</td>\n",
              "      <td>0.570357</td>\n",
              "      <td>-1.316201</td>\n",
              "    </tr>\n",
              "    <tr>\n",
              "      <th>3</th>\n",
              "      <td>0.583129</td>\n",
              "      <td>-0.098682</td>\n",
              "      <td>-0.177670</td>\n",
              "      <td>-0.840468</td>\n",
              "      <td>-1.193072</td>\n",
              "      <td>-1.409304</td>\n",
              "      <td>0.574251</td>\n",
              "      <td>-1.277514</td>\n",
              "    </tr>\n",
              "    <tr>\n",
              "      <th>4</th>\n",
              "      <td>-0.901752</td>\n",
              "      <td>0.151835</td>\n",
              "      <td>0.175129</td>\n",
              "      <td>0.165054</td>\n",
              "      <td>1.858150</td>\n",
              "      <td>1.004547</td>\n",
              "      <td>-2.263163</td>\n",
              "      <td>1.745486</td>\n",
              "    </tr>\n",
              "  </tbody>\n",
              "</table>\n",
              "</div>\n",
              "      <button class=\"colab-df-convert\" onclick=\"convertToInteractive('df-ed10b26f-b672-4252-8898-4583810a473f')\"\n",
              "              title=\"Convert this dataframe to an interactive table.\"\n",
              "              style=\"display:none;\">\n",
              "        \n",
              "  <svg xmlns=\"http://www.w3.org/2000/svg\" height=\"24px\"viewBox=\"0 0 24 24\"\n",
              "       width=\"24px\">\n",
              "    <path d=\"M0 0h24v24H0V0z\" fill=\"none\"/>\n",
              "    <path d=\"M18.56 5.44l.94 2.06.94-2.06 2.06-.94-2.06-.94-.94-2.06-.94 2.06-2.06.94zm-11 1L8.5 8.5l.94-2.06 2.06-.94-2.06-.94L8.5 2.5l-.94 2.06-2.06.94zm10 10l.94 2.06.94-2.06 2.06-.94-2.06-.94-.94-2.06-.94 2.06-2.06.94z\"/><path d=\"M17.41 7.96l-1.37-1.37c-.4-.4-.92-.59-1.43-.59-.52 0-1.04.2-1.43.59L10.3 9.45l-7.72 7.72c-.78.78-.78 2.05 0 2.83L4 21.41c.39.39.9.59 1.41.59.51 0 1.02-.2 1.41-.59l7.78-7.78 2.81-2.81c.8-.78.8-2.07 0-2.86zM5.41 20L4 18.59l7.72-7.72 1.47 1.35L5.41 20z\"/>\n",
              "  </svg>\n",
              "      </button>\n",
              "      \n",
              "  <style>\n",
              "    .colab-df-container {\n",
              "      display:flex;\n",
              "      flex-wrap:wrap;\n",
              "      gap: 12px;\n",
              "    }\n",
              "\n",
              "    .colab-df-convert {\n",
              "      background-color: #E8F0FE;\n",
              "      border: none;\n",
              "      border-radius: 50%;\n",
              "      cursor: pointer;\n",
              "      display: none;\n",
              "      fill: #1967D2;\n",
              "      height: 32px;\n",
              "      padding: 0 0 0 0;\n",
              "      width: 32px;\n",
              "    }\n",
              "\n",
              "    .colab-df-convert:hover {\n",
              "      background-color: #E2EBFA;\n",
              "      box-shadow: 0px 1px 2px rgba(60, 64, 67, 0.3), 0px 1px 3px 1px rgba(60, 64, 67, 0.15);\n",
              "      fill: #174EA6;\n",
              "    }\n",
              "\n",
              "    [theme=dark] .colab-df-convert {\n",
              "      background-color: #3B4455;\n",
              "      fill: #D2E3FC;\n",
              "    }\n",
              "\n",
              "    [theme=dark] .colab-df-convert:hover {\n",
              "      background-color: #434B5C;\n",
              "      box-shadow: 0px 1px 3px 1px rgba(0, 0, 0, 0.15);\n",
              "      filter: drop-shadow(0px 1px 2px rgba(0, 0, 0, 0.3));\n",
              "      fill: #FFFFFF;\n",
              "    }\n",
              "  </style>\n",
              "\n",
              "      <script>\n",
              "        const buttonEl =\n",
              "          document.querySelector('#df-ed10b26f-b672-4252-8898-4583810a473f button.colab-df-convert');\n",
              "        buttonEl.style.display =\n",
              "          google.colab.kernel.accessAllowed ? 'block' : 'none';\n",
              "\n",
              "        async function convertToInteractive(key) {\n",
              "          const element = document.querySelector('#df-ed10b26f-b672-4252-8898-4583810a473f');\n",
              "          const dataTable =\n",
              "            await google.colab.kernel.invokeFunction('convertToInteractive',\n",
              "                                                     [key], {});\n",
              "          if (!dataTable) return;\n",
              "\n",
              "          const docLinkHtml = 'Like what you see? Visit the ' +\n",
              "            '<a target=\"_blank\" href=https://colab.research.google.com/notebooks/data_table.ipynb>data table notebook</a>'\n",
              "            + ' to learn more about interactive tables.';\n",
              "          element.innerHTML = '';\n",
              "          dataTable['output_type'] = 'display_data';\n",
              "          await google.colab.output.renderOutput(dataTable, element);\n",
              "          const docLink = document.createElement('div');\n",
              "          docLink.innerHTML = docLinkHtml;\n",
              "          element.appendChild(docLink);\n",
              "        }\n",
              "      </script>\n",
              "    </div>\n",
              "  </div>\n",
              "  "
            ]
          },
          "metadata": {},
          "execution_count": 3
        }
      ]
    },
    {
      "cell_type": "code",
      "source": [
        "def clusterCreaton(df,saveName,saveLocation):\n",
        "    \"\"\"\n",
        "        Do clustering on the dataset\n",
        "\n",
        "        df - Name of dataset\n",
        "        saveName - name of .plk file by which it will be saved\n",
        "        saveLocation - location where to save the file\n",
        "    \"\"\"\n",
        "    model = KElbowVisualizer(KMeans(init='k-means++'),k=25)\n",
        "    model.fit(df)\n",
        "    model.show()\n",
        "\n",
        "    print(\"k = \",model.elbow_value_)\n",
        "    \n",
        "    #model saving\n",
        "    final_model = KMeans(model.elbow_value_)\n",
        "    final_model.fit(df)\n",
        "    saveModel(model=final_model,fileName=saveName,location=saveLocation)\n"
      ],
      "metadata": {
        "id": "MMcDKGb8Ok8G"
      },
      "execution_count": 30,
      "outputs": []
    },
    {
      "cell_type": "code",
      "source": [
        "clusterCreaton(df=df,saveName='cluster.pkl',saveLocation='/content/drive/MyDrive/Gas_Turbine')"
      ],
      "metadata": {
        "colab": {
          "base_uri": "https://localhost:8080/",
          "height": 411
        },
        "id": "7SBNWvvYPkcL",
        "outputId": "732c9d9d-6838-4920-b0c8-457f199d634f"
      },
      "execution_count": 32,
      "outputs": [
        {
          "output_type": "display_data",
          "data": {
            "text/plain": [
              "<Figure size 576x396 with 2 Axes>"
            ],
            "image/png": "[encoded data removed]"
          },
          "metadata": {}
        },
        {
          "output_type": "stream",
          "name": "stdout",
          "text": [
            "k =  7\n",
            "KMeans(n_clusters=7) Saved \t final Location : /content/drive/MyDrive/Gas_Turbine/cluster.pkl\n"
          ]
        }
      ]
    },
    {
      "cell_type": "code",
      "source": [
        ""
      ],
      "metadata": {
        "id": "DKgQYSb3PmsJ"
      },
      "execution_count": null,
      "outputs": []
    }
  ]
}